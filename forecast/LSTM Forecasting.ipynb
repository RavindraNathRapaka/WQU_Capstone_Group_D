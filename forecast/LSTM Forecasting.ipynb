{
 "cells": [
  {
   "cell_type": "code",
   "execution_count": 1,
   "metadata": {},
   "outputs": [],
   "source": [
    "import pandas as pd\n",
    "from fbprophet import Prophet\n",
    "import warnings\n",
    "warnings.filterwarnings('ignore')\n",
    "import numpy as np\n",
    "from tqdm import tqdm_notebook"
   ]
  },
  {
   "cell_type": "code",
   "execution_count": 2,
   "metadata": {},
   "outputs": [
    {
     "name": "stderr",
     "output_type": "stream",
     "text": [
      "Using TensorFlow backend.\n"
     ]
    }
   ],
   "source": [
    "import math\n",
    "from keras.models import Sequential\n",
    "from keras.layers import Dense\n",
    "from keras.layers import LSTM\n",
    "from sklearn.preprocessing import MinMaxScaler\n",
    "from sklearn.metrics import mean_squared_error\n",
    "from matplotlib import pyplot as plt\n"
   ]
  },
  {
   "cell_type": "code",
   "execution_count": 3,
   "metadata": {},
   "outputs": [],
   "source": [
    "try:\n",
    "    from hyperopt import Trials, STATUS_OK, tpe, fmin, hp\n",
    "except:\n",
    "    !pip install hyperopt\n",
    "    from hyperopt import Trials, STATUS_OK, tpe\n",
    "import numpy as np\n",
    "import pandas as pd\n",
    "import os\n",
    "import sys\n",
    "import time\n",
    "import pandas as pd\n",
    "from tqdm._tqdm_notebook import tqdm_notebook as tqdm\n",
    "import pickle\n",
    "from keras.models import Sequential\n",
    "from keras.layers import Dense, Dropout, Flatten\n",
    "from keras.layers import Embedding\n",
    "from keras.layers import LSTM\n",
    "import keras\n",
    "from keras.callbacks import Callback\n",
    "from keras import optimizers\n",
    "from keras.wrappers.scikit_learn import KerasClassifier\n",
    "from keras.callbacks import CSVLogger\n",
    "from sklearn.model_selection import GridSearchCV\n",
    "# import psutil\n",
    "from sklearn.preprocessing import MinMaxScaler, normalize\n",
    "from sklearn.model_selection import train_test_split\n",
    "from sklearn.metrics import accuracy_score, mean_squared_error\n",
    "\n",
    "import logging\n",
    "import itertools as it"
   ]
  },
  {
   "cell_type": "code",
   "execution_count": 4,
   "metadata": {},
   "outputs": [],
   "source": [
    "from keras.layers import Dropout"
   ]
  },
  {
   "cell_type": "code",
   "execution_count": 5,
   "metadata": {},
   "outputs": [],
   "source": [
    "from sklearn.preprocessing import MinMaxScaler\n",
    "from sklearn.model_selection import train_test_split"
   ]
  },
  {
   "cell_type": "code",
   "execution_count": 6,
   "metadata": {},
   "outputs": [],
   "source": [
    "def build_timeseries(mat, y_col_index):\n",
    "    # y_col_index is the index of column that would act as output column\n",
    "    # total number of time-series samples would be len(mat) - TimeSteps\n",
    "    dim_0 = mat.shape[0] - TimeSteps\n",
    "    dim_1 = mat.shape[1]\n",
    "    x = np.zeros((dim_0, TimeSteps, dim_1))\n",
    "    y = np.zeros((dim_0,))\n",
    "    \n",
    "    for i in tqdm_notebook(range(dim_0)):\n",
    "        x[i] = mat[i:TimeSteps+i]\n",
    "        y[i] = mat[TimeSteps+i, y_col_index]\n",
    "    print(\"length of time-series i/o\",x.shape,y.shape)\n",
    "    return x, y\n",
    "\n",
    "\n",
    "def trim_dataset(mat, batch_size):\n",
    "    \"\"\"\n",
    "    trims dataset to a size that's divisible by BatchSize\n",
    "    \"\"\"\n",
    "    no_of_rows_drop = mat.shape[0]%batch_size\n",
    "    if(no_of_rows_drop > 0):\n",
    "        return mat[:-no_of_rows_drop]\n",
    "    else:\n",
    "        return mat"
   ]
  },
  {
   "cell_type": "code",
   "execution_count": 7,
   "metadata": {},
   "outputs": [],
   "source": []
  },
  {
   "cell_type": "code",
   "execution_count": 8,
   "metadata": {},
   "outputs": [],
   "source": [
    "# # Install a pip package in the current Jupyter kernel\n",
    "# import sys\n",
    "# !{sys.executable} -m pip install pandas==0.24.2"
   ]
  },
  {
   "cell_type": "code",
   "execution_count": 9,
   "metadata": {},
   "outputs": [],
   "source": [
    "data_dir = \"../indices_quandl/\"\n",
    "\n",
    "files__ = pd.read_csv('../indices_details.csv')\n",
    "\n",
    "sector_list_name =[]\n",
    "sector_list =[]"
   ]
  },
  {
   "cell_type": "code",
   "execution_count": 10,
   "metadata": {},
   "outputs": [],
   "source": [
    "for i in files__['Description'].unique():\n",
    "    sector_list.append(list(files__['symbol'][files__['Description']==i]))\n",
    "    sector_list_name.append(i)"
   ]
  },
  {
   "cell_type": "code",
   "execution_count": 11,
   "metadata": {},
   "outputs": [],
   "source": [
    "commodity_list = list(files__['symbol'][files__['related_1st_pair']<6])"
   ]
  },
  {
   "cell_type": "code",
   "execution_count": 148,
   "metadata": {},
   "outputs": [
    {
     "data": {
      "text/html": [
       "<div>\n",
       "<style scoped>\n",
       "    .dataframe tbody tr th:only-of-type {\n",
       "        vertical-align: middle;\n",
       "    }\n",
       "\n",
       "    .dataframe tbody tr th {\n",
       "        vertical-align: top;\n",
       "    }\n",
       "\n",
       "    .dataframe thead th {\n",
       "        text-align: right;\n",
       "    }\n",
       "</style>\n",
       "<table border=\"1\" class=\"dataframe\">\n",
       "  <thead>\n",
       "    <tr style=\"text-align: right;\">\n",
       "      <th></th>\n",
       "      <th>Date</th>\n",
       "      <th>Close</th>\n",
       "    </tr>\n",
       "  </thead>\n",
       "  <tbody>\n",
       "    <tr>\n",
       "      <th>0</th>\n",
       "      <td>31-Jan-1980</td>\n",
       "      <td>11.37</td>\n",
       "    </tr>\n",
       "    <tr>\n",
       "      <th>1</th>\n",
       "      <td>29-Feb-1980</td>\n",
       "      <td>11.35</td>\n",
       "    </tr>\n",
       "    <tr>\n",
       "      <th>2</th>\n",
       "      <td>31-Mar-1980</td>\n",
       "      <td>11.59</td>\n",
       "    </tr>\n",
       "    <tr>\n",
       "      <th>3</th>\n",
       "      <td>30-Apr-1980</td>\n",
       "      <td>11.68</td>\n",
       "    </tr>\n",
       "    <tr>\n",
       "      <th>4</th>\n",
       "      <td>31-May-1980</td>\n",
       "      <td>11.66</td>\n",
       "    </tr>\n",
       "  </tbody>\n",
       "</table>\n",
       "</div>"
      ],
      "text/plain": [
       "          Date  Close\n",
       "0  31-Jan-1980  11.37\n",
       "1  29-Feb-1980  11.35\n",
       "2  31-Mar-1980  11.59\n",
       "3  30-Apr-1980  11.68\n",
       "4  31-May-1980  11.66"
      ]
     },
     "execution_count": 148,
     "metadata": {},
     "output_type": "execute_result"
    }
   ],
   "source": [
    "data.head()"
   ]
  },
  {
   "cell_type": "code",
   "execution_count": 233,
   "metadata": {},
   "outputs": [
    {
     "name": "stdout",
     "output_type": "stream",
     "text": [
      "US Wheat Futures (ZWN9)\n"
     ]
    }
   ],
   "source": [
    "data_assets_daily ={}\n",
    "num_to_predict =2\n",
    "for i in list([files__['files'][num_to_predict]]):\n",
    "    print(i)\n",
    "    name =i\n",
    "    data = pd.read_csv(data_dir+list(files__['files'])[num_to_predict]+'.csv')\n",
    "    data = data.dropna()\n",
    "    data =data.rename(columns={\"Vol.\":\"Volume\",\"Price\":\"Close\"})\n",
    "    data[\"Volume\"] = data[\"Volume\"].astype(str)\n",
    "    data[\"Volume\"][data[\"Volume\"]==\"-\"]=\"0K\"\n",
    "    data[\"Volume\"][data[\"Volume\"].str.contains(\"K\").fillna(False)] = data[\"Volume\"][data[\"Volume\"].str.contains(\"K\").fillna(False)].str.replace('K',\"\").apply(pd.to_numeric)*1000\n",
    "    data[\"Volume\"][data[\"Volume\"].str.contains(\"M\").fillna(False)] = data[\"Volume\"][data[\"Volume\"].str.contains(\"K\").fillna(False)].str.replace('M',\"\").apply(pd.to_numeric)*1000000\n"
   ]
  },
  {
   "cell_type": "code",
   "execution_count": 316,
   "metadata": {},
   "outputs": [],
   "source": [
    "params = {\n",
    "    \"batch_size\": 20,  # 20<16<10, 25 was a bust\n",
    "    \"epochs\": 20,\n",
    "    \"lr\": 0.01000,\n",
    "    \"time_steps\": 60\n",
    "}\n",
    "\n",
    "BatchSize =40\n",
    "TimeSteps = 60"
   ]
  },
  {
   "cell_type": "code",
   "execution_count": 317,
   "metadata": {},
   "outputs": [],
   "source": [
    "df_ge = data[['Open','High','Low','Close','Volume']][data['Date']>='2015-01-01']#.tail(3*365).copy().reset_index(drop =True)"
   ]
  },
  {
   "cell_type": "code",
   "execution_count": 318,
   "metadata": {},
   "outputs": [
    {
     "name": "stdout",
     "output_type": "stream",
     "text": [
      "Train and Test size 952 239\n"
     ]
    }
   ],
   "source": [
    "train_cols = list(df_ge.columns)\n",
    "df_train, df_test = train_test_split(df_ge, train_size=0.8, test_size=0.2, shuffle=False)\n",
    "#df_train = df_ge.head(df_train.Close.count()-20)\n",
    "#df_test = df_ge.head(20)\n",
    "print(\"Train and Test size\", len(df_train), len(df_test))"
   ]
  },
  {
   "cell_type": "code",
   "execution_count": 319,
   "metadata": {},
   "outputs": [],
   "source": [
    "# scale the feature MinMax, build array\n",
    "x = df_train.loc[:,train_cols].values\n",
    "min_max_scaler = MinMaxScaler()\n",
    "x_train = min_max_scaler.fit_transform(x)\n",
    "x_test = min_max_scaler.transform(df_test.loc[:,train_cols].values)"
   ]
  },
  {
   "cell_type": "code",
   "execution_count": 320,
   "metadata": {},
   "outputs": [],
   "source": [
    "column_to_predict = 3"
   ]
  },
  {
   "cell_type": "code",
   "execution_count": 321,
   "metadata": {},
   "outputs": [
    {
     "data": {
      "application/vnd.jupyter.widget-view+json": {
       "model_id": "e4317a86d5464f1999dca52bddadbf51",
       "version_major": 2,
       "version_minor": 0
      },
      "text/plain": [
       "HBox(children=(IntProgress(value=0, max=892), HTML(value='')))"
      ]
     },
     "metadata": {},
     "output_type": "display_data"
    },
    {
     "name": "stdout",
     "output_type": "stream",
     "text": [
      "\n",
      "length of time-series i/o (892, 60, 5) (892,)\n"
     ]
    },
    {
     "data": {
      "application/vnd.jupyter.widget-view+json": {
       "model_id": "1dc8b92d315f4844a61bae4a6084d1fe",
       "version_major": 2,
       "version_minor": 0
      },
      "text/plain": [
       "HBox(children=(IntProgress(value=0, max=179), HTML(value='')))"
      ]
     },
     "metadata": {},
     "output_type": "display_data"
    },
    {
     "name": "stdout",
     "output_type": "stream",
     "text": [
      "\n",
      "length of time-series i/o (179, 60, 5) (179,)\n"
     ]
    }
   ],
   "source": [
    "x_t_act, y_t_act = build_timeseries(x_train, column_to_predict)\n",
    "x_t = trim_dataset(x_t_act, BatchSize)\n",
    "y_t = trim_dataset(y_t_act, BatchSize)\n",
    "x_temp, y_temp = build_timeseries(x_test, column_to_predict)\n",
    "x_val, x_test_t = np.split(trim_dataset(x_temp, BatchSize),2)\n",
    "y_val, y_test_t = np.split(trim_dataset(y_temp, BatchSize),2)"
   ]
  },
  {
   "cell_type": "code",
   "execution_count": 322,
   "metadata": {},
   "outputs": [],
   "source": [
    "lstm_model = Sequential()\n",
    "lstm_model.add(LSTM(20, batch_input_shape=(BatchSize, TimeSteps, x_t.shape[2]), dropout=0.0, recurrent_dropout=0.0, stateful=True,kernel_initializer='random_uniform'))\n",
    "lstm_model.add(Dropout(0.7))\n",
    "lstm_model.add(Dense(1,activation='relu'))\n",
    "lstm_model.add(Dense(1,activation='sigmoid'))\n",
    "optimizer = optimizers.RMSprop(lr=params[\"lr\"])\n",
    "lstm_model.compile(loss='mean_squared_error', optimizer=optimizer)"
   ]
  },
  {
   "cell_type": "code",
   "execution_count": 323,
   "metadata": {},
   "outputs": [],
   "source": [
    "#OUTPUT_PATH = \"../indices_daily/\"\n",
    "#csv_logger = CSVLogger(os.path.join(OUTPUT_PATH, 'your_log_name' + '.log'), append=True)\n"
   ]
  },
  {
   "cell_type": "code",
   "execution_count": 324,
   "metadata": {},
   "outputs": [],
   "source": [
    "#os.path.join(OUTPUT_PATH, 'your_log_name' + '.log') , callbacks=[csv_logger]"
   ]
  },
  {
   "cell_type": "code",
   "execution_count": 325,
   "metadata": {},
   "outputs": [
    {
     "name": "stdout",
     "output_type": "stream",
     "text": [
      "Train on 880 samples, validate on 80 samples\n",
      "Epoch 1/20\n",
      "880/880 [==============================] - 4s 5ms/step - loss: 0.0480 - val_loss: 0.0183\n",
      "Epoch 2/20\n",
      "880/880 [==============================] - 1s 1ms/step - loss: 0.0414 - val_loss: 0.0220\n",
      "Epoch 3/20\n",
      "880/880 [==============================] - 1s 1ms/step - loss: 0.0364 - val_loss: 0.0122\n",
      "Epoch 4/20\n",
      "880/880 [==============================] - 1s 1ms/step - loss: 0.0316 - val_loss: 0.0095\n",
      "Epoch 5/20\n",
      "880/880 [==============================] - 1s 1ms/step - loss: 0.0266 - val_loss: 0.0092\n",
      "Epoch 6/20\n",
      "880/880 [==============================] - 1s 1ms/step - loss: 0.0231 - val_loss: 0.0069\n",
      "Epoch 7/20\n",
      "880/880 [==============================] - 1s 2ms/step - loss: 0.0201 - val_loss: 0.0154\n",
      "Epoch 8/20\n",
      "880/880 [==============================] - 1s 1ms/step - loss: 0.0180 - val_loss: 0.0063\n",
      "Epoch 9/20\n",
      "880/880 [==============================] - 1s 1ms/step - loss: 0.0167 - val_loss: 0.0078\n",
      "Epoch 10/20\n",
      "880/880 [==============================] - 1s 1ms/step - loss: 0.0158 - val_loss: 0.0211\n",
      "Epoch 11/20\n",
      "880/880 [==============================] - 1s 1ms/step - loss: 0.0138 - val_loss: 0.0076\n",
      "Epoch 12/20\n",
      "880/880 [==============================] - 1s 1ms/step - loss: 0.0124 - val_loss: 0.0030\n",
      "Epoch 13/20\n",
      "880/880 [==============================] - 1s 1ms/step - loss: 0.0121 - val_loss: 0.0047\n",
      "Epoch 14/20\n",
      "880/880 [==============================] - 1s 1ms/step - loss: 0.0120 - val_loss: 0.0019\n",
      "Epoch 15/20\n",
      "880/880 [==============================] - 1s 1ms/step - loss: 0.0103 - val_loss: 0.0032\n",
      "Epoch 16/20\n",
      "880/880 [==============================] - 1s 1ms/step - loss: 0.0102 - val_loss: 0.0053\n",
      "Epoch 17/20\n",
      "880/880 [==============================] - 1s 1ms/step - loss: 0.0101 - val_loss: 0.0047\n",
      "Epoch 18/20\n",
      "880/880 [==============================] - 1s 1ms/step - loss: 0.0092 - val_loss: 0.0067\n",
      "Epoch 19/20\n",
      "880/880 [==============================] - 1s 1ms/step - loss: 0.0084 - val_loss: 0.0025\n",
      "Epoch 20/20\n",
      "880/880 [==============================] - 1s 1ms/step - loss: 0.0084 - val_loss: 0.0034\n"
     ]
    }
   ],
   "source": [
    "\n",
    "history = lstm_model.fit(x_t, y_t, epochs=params[\"epochs\"], verbose=1, batch_size=BatchSize,\n",
    "                    shuffle=False, validation_data=(trim_dataset(x_val, BatchSize),\n",
    "                    trim_dataset(y_val, BatchSize)))"
   ]
  },
  {
   "cell_type": "code",
   "execution_count": 326,
   "metadata": {},
   "outputs": [
    {
     "name": "stdout",
     "output_type": "stream",
     "text": [
      "Error is 0.0037628495710587033 (80,) (80,)\n"
     ]
    }
   ],
   "source": [
    "y_pred = lstm_model.predict(trim_dataset(x_test_t, BatchSize), batch_size=BatchSize)\n",
    "y_pred = y_pred.flatten()\n",
    "y_test_t = trim_dataset(y_test_t, BatchSize)\n",
    "error = mean_squared_error(y_test_t, y_pred)\n",
    "print(\"Error is\", error, y_pred.shape, y_test_t.shape)\n",
    "# print(y_pred[0:15])\n",
    "# print(y_test_t[0:15])"
   ]
  },
  {
   "cell_type": "code",
   "execution_count": 327,
   "metadata": {},
   "outputs": [],
   "source": [
    "y_pred_org = (y_pred * min_max_scaler.data_range_[3]) + min_max_scaler.data_min_[3]\n",
    "y_test_t_org = (y_test_t * min_max_scaler.data_range_[3]) + min_max_scaler.data_min_[3]\n",
    "# print(y_pred_org[0:15])\n",
    "# print(y_test_t_org[0:15])"
   ]
  },
  {
   "cell_type": "code",
   "execution_count": 328,
   "metadata": {},
   "outputs": [
    {
     "data": {
      "image/png": "[encoded data removed]",
      "text/plain": [
       "<Figure size 1440x720 with 1 Axes>"
      ]
     },
     "metadata": {},
     "output_type": "display_data"
    }
   ],
   "source": [
    "# Visualize the prediction\n",
    "plt.figure(figsize=(20,10))\n",
    "plt.plot(y_pred_org )\n",
    "plt.plot(y_test_t_org )\n",
    "plt.title('Prediction vs Real Stock Price '+name)\n",
    "plt.ylabel('Price')\n",
    "plt.xlabel('Days')\n",
    "plt.ylim([0,y_pred_org.max()*1.15])\n",
    "plt.legend(['Prediction', 'Real'], loc='upper left')\n",
    "plt.show()\n",
    "#plt.savefig(os.path.join(OUTPUT_PATH, 'pred_vs_real_BS'+str(BatchSize)+\"_\"+time.ctime()+'.png'))\n",
    "#print_time(\"program completed \", stime)"
   ]
  },
  {
   "cell_type": "code",
   "execution_count": 277,
   "metadata": {},
   "outputs": [
    {
     "name": "stdout",
     "output_type": "stream",
     "text": [
      "US Wheat Futures (ZWN9)\n"
     ]
    }
   ],
   "source": [
    "print(i)"
   ]
  },
  {
   "cell_type": "code",
   "execution_count": null,
   "metadata": {},
   "outputs": [],
   "source": []
  }
 ],
 "metadata": {
  "kernelspec": {
   "display_name": "Python 3",
   "language": "python",
   "name": "python3"
  },
  "language_info": {
   "codemirror_mode": {
    "name": "ipython",
    "version": 3
   },
   "file_extension": ".py",
   "mimetype": "text/x-python",
   "name": "python",
   "nbconvert_exporter": "python",
   "pygments_lexer": "ipython3",
   "version": "3.6.7"
  }
 },
 "nbformat": 4,
 "nbformat_minor": 2
}
