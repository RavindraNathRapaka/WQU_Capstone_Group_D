{
 "cells": [
  {
   "cell_type": "code",
   "execution_count": null,
   "metadata": {},
   "outputs": [],
   "source": [
    "\n",
    "# Install a pip package in the current Jupyter kernel\n",
    "import sys\n",
    "!{sys.executable} -m pip install quandl"
   ]
  },
  {
   "cell_type": "code",
   "execution_count": 20,
   "metadata": {},
   "outputs": [],
   "source": [
    "import quandl\n",
    "import pandas as pd\n",
    "quandl.ApiConfig.api_key = \"9fzAx3c-kZPnyXjVzj78\""
   ]
  },
  {
   "cell_type": "markdown",
   "metadata": {},
   "source": [
    "# 1. Forex Data"
   ]
  },
  {
   "cell_type": "code",
   "execution_count": 29,
   "metadata": {},
   "outputs": [],
   "source": [
    "JPYUSD = {\n",
    "'id' : 'FRED/DEXJPUS',\n",
    "'name' : 'JPYUSD',\n",
    "'curr_id': 1910,\n",
    "'smlID': 300196,\n",
    "'header' : 'Japanese Yen US Dollar',\n",
    "'sort_col' : 'date',\n",
    "'action' : 'historical_data'\n",
    "}\n",
    "\n",
    "CADUSD = {\n",
    "'id' : 'FRED/DEXCAUS',\n",
    "'name' : 'CADUSD',\n",
    "'curr_id': 1538,\n",
    "'smlID': 106872,\n",
    "'header' : 'Canadian Dollar US Dollar',\n",
    "'sort_col' : 'date',\n",
    "'action' : 'historical_data'\n",
    "}\n",
    "\n",
    "INRUSD = {\n",
    "'id' : 'FRED/DEXINUS',\n",
    "'name' : 'INRUSD',\n",
    "'curr_id': 941148,\n",
    "'smlID': 128650,\n",
    "'header' : 'Indian Rupee US Dollar',\n",
    "'sort_col' : 'date',\n",
    "'action' : 'historical_data'\n",
    "}\n",
    "\n",
    "AUDUSD = {\n",
    "'id' : 'FRED/EXAUUS',\n",
    "'name' : 'AUDUSD',\n",
    "'curr_id': 5,\n",
    "'smlID': 106686,\n",
    "'header' : 'Australian Dollar US Dollar',\n",
    "'sort_col' : 'date',\n",
    "'action' : 'historical_data'\n",
    "}\n",
    "\n",
    "USDGBP = {\n",
    "'id' : 'FRED/DEXUSUK',\n",
    "'name' : 'USDGBP',\n",
    "'curr_id': 2,\n",
    "'smlID': 106683,\n",
    "'header' : 'British Pound US Dollar',\n",
    "'sort_col' : 'date',\n",
    "'action' : 'historical_data'\n",
    "}\n",
    "\n"
   ]
  },
  {
   "cell_type": "markdown",
   "metadata": {},
   "source": [
    "# 2. COMMODITY – LIVESTOCK"
   ]
  },
  {
   "cell_type": "code",
   "execution_count": 15,
   "metadata": {},
   "outputs": [],
   "source": [
    "FCQ9 = {\n",
    "'id' : \"CHRIS/CME_FC1\",\n",
    "'name' : 'FCQ9',\n",
    "'curr_id': 961618,\n",
    "'smlID': 300996,\n",
    "'header' : 'Feeder Cattle Futures',\n",
    "'sort_col' : 'date',\n",
    "'action' : 'historical_data'\n",
    "}\n",
    "\n",
    "LEQ9 = {\n",
    "'id' : 'CHRIS/CME_LC1',\n",
    "'name' : 'LEQ9',\n",
    "'curr_id': 8914,\n",
    "'smlID': 300164,\n",
    "'header' : 'Live Cattle Futures',\n",
    "'sort_col' : 'date',\n",
    "'action' : 'historical_data'\n",
    "}\n",
    "\n",
    "HEM9 = {\n",
    "'id' : 'CHRIS/CME_LN1',\n",
    "'name' : 'HEM9',\n",
    "'curr_id': 8913,\n",
    "'smlID': 300925,\n",
    "'header' : 'Lean Hogs Historical Data',\n",
    "'sort_col' : 'date',\n",
    "'action' : 'historical_data'\n",
    "}\n",
    "\n",
    "DCSc1 = {\n",
    "'id' : 'CHRIS/CME_DA1',\n",
    "'name' : 'DCSc1',\n",
    "'curr_id': 961735,\n",
    "'smlID': 301081,\n",
    "'header' : 'Class III Milk Futures',\n",
    "'sort_col' : 'date',\n",
    "'action' : 'historical_data'\n",
    "}\n"
   ]
  },
  {
   "cell_type": "markdown",
   "metadata": {},
   "source": [
    "# 3. COMMODITY_METALS"
   ]
  },
  {
   "cell_type": "code",
   "execution_count": 16,
   "metadata": {},
   "outputs": [],
   "source": [
    "GCQ9 = {\n",
    "'id' : 'CHRIS/CME_MGC1',\n",
    "'name' : 'GCQ9',\n",
    "'curr_id': 8830,\n",
    "'smlID': 300004,\n",
    "'header' : 'Gold Futures',\n",
    "'sort_col' : 'date',\n",
    "'action' : 'historical_data'\n",
    "}\n",
    "\n",
    "HGN9 = {\n",
    "'id' : 'CHRIS/CME_HG1',\n",
    "'name' : 'HGN9',\n",
    "'curr_id': 8831,\n",
    "'smlID': 300012,\n",
    "'header' : 'Copper Futures',\n",
    "'sort_col' : 'date',\n",
    "'action' : 'historical_data'\n",
    "}\n",
    "\n",
    "SIN9 = {\n",
    "'id' : 'CHRIS/MCX_SI1', # CHRIS / CME_SI8\n",
    "'name' : 'SIN9',\n",
    "'curr_id': 8836,\n",
    "'smlID': 300044,\n",
    "'header' : 'Silver Futures',\n",
    "'sort_col' : 'date',\n",
    "'action' : 'historical_data'\n",
    "}\n",
    "\n",
    "PLN9 = {\n",
    "'id' : 'CHRIS/CME_PL1',\n",
    "'name' : 'PLN9',\n",
    "'curr_id': 8910,\n",
    "'smlID': 300132,\n",
    "'header' : 'Platinum Futures',\n",
    "'sort_col' : 'date',\n",
    "'action' : 'historical_data'\n",
    "}\n",
    "\n",
    "PAU9 = {\n",
    "'id' : 'CHRIS/CME_PA1',\n",
    "'name' : 'PAU9',\n",
    "'curr_id': 8883,\n",
    "'smlID': 300108,\n",
    "'header' : 'Palladium Contract',\n",
    "'sort_col' : 'date',\n",
    "'action' : 'historical_data'\n",
    "}\n",
    "\n",
    "MALTR = {\n",
    "'id' : 'CHRIS/SHFE_AL1',\n",
    "'name' : 'MALTR',\n",
    "'curr_id': 49768,\n",
    "'smlID': 300586,\n",
    "'header' : 'Aluminum Futures Historical Data',\n",
    "'sort_col' : 'date',\n",
    "'action' : 'historical_data'\n",
    "}"
   ]
  },
  {
   "cell_type": "markdown",
   "metadata": {},
   "source": [
    "# 4. COMMODITY_GRAINS_AND_OILSEEDS"
   ]
  },
  {
   "cell_type": "code",
   "execution_count": 17,
   "metadata": {},
   "outputs": [],
   "source": [
    "RRN9 = {\n",
    "'id' : 'CHRIS/CME_RR1',\n",
    "'name' : 'RRN9',\n",
    "'curr_id': 13916,\n",
    "'smlID': 300409,\n",
    "'header' : 'Rough Rice Futures',\n",
    "'sort_col' : 'date',\n",
    "'action' : 'historical_data'\n",
    "}\n",
    "\n",
    "ZCN9 = {\n",
    "'id' : '',\n",
    "'name' : 'ZCN9',\n",
    "'curr_id': 8918,\n",
    "'smlID': 300196,\n",
    "'header' : 'US Corn Futures Historical Data',\n",
    "'sort_col' : 'date',\n",
    "'action' : 'historical_data'\n",
    "}\n",
    "\n",
    "\n",
    "ZWN9 = {\n",
    "'id' : '',\n",
    "'name' : 'ZWN9',\n",
    "'curr_id': 8917,\n",
    "'smlID': 300188,\n",
    "'header' : 'US Wheat Futures',\n",
    "'sort_col' : 'date',\n",
    "'action' : 'historical_data'\n",
    "}\n",
    "\n",
    "ZLN9 = {\n",
    "'id' : '',\n",
    "'name' : 'ZLN9',\n",
    "'curr_id': 8915,\n",
    "'smlID': 300172,\n",
    "'header' : 'US Soybean Oil Futures',\n",
    "'sort_col' : 'date',\n",
    "'action' : 'historical_data'\n",
    "}\n",
    "\n",
    "ZMN9 = {\n",
    "'id' : '',\n",
    "'name' : 'ZMN9',\n",
    "'curr_id': 8919,\n",
    "'smlID': 300204,\n",
    "'header' : 'US Soybean Meal Futures',\n",
    "'sort_col' : 'date',\n",
    "'action' : 'historical_data'\n",
    "}\n",
    "\n",
    "Oc1 = {\n",
    "'id' : 'CHRIS/CME_O1',\n",
    "'name' : 'Oc1',\n",
    "'curr_id': 959199,\n",
    "'smlID': 300971,\n",
    "'header' : 'Oats Futures',\n",
    "'sort_col' : 'date',\n",
    "'action' : 'historical_data'\n",
    "}\n",
    "\n",
    "ZSN9 = {\n",
    "'id' : '',\n",
    "'name' : 'ZSN9',\n",
    "'curr_id': 8916,\n",
    "'smlID': 300180,\n",
    "'header' : 'US Soybeans Futures',\n",
    "'sort_col' : 'date',\n",
    "'action' : 'historical_data'\n",
    "}"
   ]
  },
  {
   "cell_type": "markdown",
   "metadata": {},
   "source": [
    "# 5. COMMODITY_SOFTS"
   ]
  },
  {
   "cell_type": "code",
   "execution_count": 18,
   "metadata": {},
   "outputs": [],
   "source": [
    "\n",
    "SBN9 = {\n",
    "'id' : 'CHRIS/ICE_SB1',\n",
    "'name' : 'SBN9',\n",
    "'curr_id': 8869,\n",
    "'smlID': 300100,\n",
    "'header' : 'US Sugar #11 Futures',\n",
    "'sort_col' : 'date',\n",
    "'action' : 'historical_data'\n",
    "}\n",
    "\n",
    "\n",
    "KCN9 = {\n",
    "'id' : 'CHRIS/ICE_KC1',\n",
    "'name' : 'KCN9',\n",
    "'curr_id': 8832,\n",
    "'smlID': 300020,\n",
    "'header' : 'US Coffee C Futures',\n",
    "'sort_col' : 'date',\n",
    "'action' : 'historical_data'\n",
    "}\n",
    "\n",
    "CCN9 = {\n",
    "'id' : 'CHRIS/ICE_CC1',\n",
    "'name' : 'CCN9',\n",
    "'curr_id': 8894,\n",
    "'smlID': 300124,\n",
    "'header' : 'US Cocoa Futures',\n",
    "'sort_col' : 'date',\n",
    "'action' : 'historical_data'\n",
    "}\n",
    "\n",
    "CTN9 = {\n",
    "'id' : 'CHRIS/ICE_CT2',\n",
    "'name' : 'CTN9',\n",
    "'curr_id': 8851,\n",
    "'smlID': 300068,\n",
    "'header' : 'US Cotton #2 Futures',\n",
    "'sort_col' : 'date',\n",
    "'action' : 'historical_data'\n",
    "}\n"
   ]
  },
  {
   "cell_type": "markdown",
   "metadata": {},
   "source": [
    "# 6. COMMODITY_ENERGY"
   ]
  },
  {
   "cell_type": "code",
   "execution_count": 36,
   "metadata": {},
   "outputs": [],
   "source": [
    "LGOQ9 = {\n",
    "'id' : 'CHRIS/ICE_G2',\n",
    "'name' : 'LGOQ9',\n",
    "'curr_id': 8862,\n",
    "'smlID': 300092,\n",
    "'header' : 'Gas Oil Futures',\n",
    "'sort_col' : 'date',\n",
    "'action' : 'historical_data'\n",
    "}"
   ]
  },
  {
   "cell_type": "markdown",
   "metadata": {},
   "source": [
    "# 7. EXCHANGE"
   ]
  },
  {
   "cell_type": "code",
   "execution_count": 43,
   "metadata": {},
   "outputs": [],
   "source": [
    "US500 = {\n",
    "'id' : 'CHRIS/CME_SP1',\n",
    "'name' : 'US500',\n",
    "'curr_id': 8839,\n",
    "'smlID': 500066,\n",
    "'header' : 'S&P 500 Contract',\n",
    "'sort_col' : 'date',\n",
    "'action' : 'historical_data'\n",
    "}"
   ]
  },
  {
   "cell_type": "code",
   "execution_count": 44,
   "metadata": {},
   "outputs": [],
   "source": [
    "#lst = [JPYUSD, CADUSD, INRUSD, AUDUSD, \n",
    "lst = [USDGBP, SBN9, KCN9, CCN9, CTN9, FCQ9, LEQ9, HEM9, DCSc1, RRN9, Oc1]\n",
    "lst = [US500]"
   ]
  },
  {
   "cell_type": "code",
   "execution_count": 45,
   "metadata": {},
   "outputs": [
    {
     "name": "stdout",
     "output_type": "stream",
     "text": [
      "CHRIS/CME_SP1\n"
     ]
    }
   ],
   "source": [
    "for data in lst:\n",
    "    print(data['id'])\n",
    "    observations= quandl.get(data['id'])\n",
    "    observations.to_csv('./indices_quandl/'+data['header']+\" (\"+data['name']+\")\"+'.csv', sep=',', encoding='utf-8')"
   ]
  },
  {
   "cell_type": "code",
   "execution_count": null,
   "metadata": {},
   "outputs": [],
   "source": []
  }
 ],
 "metadata": {
  "kernelspec": {
   "display_name": "Python (3.7)",
   "language": "python",
   "name": "myenv"
  },
  "language_info": {
   "codemirror_mode": {
    "name": "ipython",
    "version": 3
   },
   "file_extension": ".py",
   "mimetype": "text/x-python",
   "name": "python",
   "nbconvert_exporter": "python",
   "pygments_lexer": "ipython3",
   "version": "3.7.0"
  }
 },
 "nbformat": 4,
 "nbformat_minor": 2
}
