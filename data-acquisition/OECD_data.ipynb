{
 "cells": [
  {
   "cell_type": "code",
   "execution_count": null,
   "metadata": {},
   "outputs": [],
   "source": [
    "import cif_modified as cif\n"
   ]
  },
  {
   "cell_type": "code",
   "execution_count": null,
   "metadata": {},
   "outputs": [],
   "source": [
    "countries = ['ARG','AUS','BRA','CAN','CHE','CHL','CHN','DEU','FRA','GBR','JPN','KOR','NOR','NZL','RUS','SAU','USA','IND','ZAF']"
   ]
  },
  {
   "cell_type": "code",
   "execution_count": null,
   "metadata": {},
   "outputs": [],
   "source": [
    "#CPI\n",
    "data, subjects, measures = cif.createDataFrameFromOECD(countries =countries, dsname = 'DP_LIVE',measure=['AGRWTH'],subject=['CPI.TOT'], frequency = 'M')\n",
    "data.to_csv('./data/cpi.csv')"
   ]
  },
  {
   "cell_type": "code",
   "execution_count": null,
   "metadata": {},
   "outputs": [],
   "source": [
    "#M1\n",
    "data, subjects, measures = cif.createDataFrameFromOECD(countries =countries, dsname = 'DP_LIVE',measure=['IDX2015'],subject=['M1.TOT'], frequency = 'M')\n",
    "data.to_csv('./data/m1.csv')"
   ]
  },
  {
   "cell_type": "code",
   "execution_count": null,
   "metadata": {},
   "outputs": [],
   "source": [
    "#M3\n",
    "data, subjects, measures = cif.createDataFrameFromOECD(countries =countries, dsname = 'DP_LIVE',measure=['IDX2015'],subject=['M3.TOT'], frequency = 'M')\n",
    "data.to_csv('./data/m3.csv')"
   ]
  },
  {
   "cell_type": "code",
   "execution_count": null,
   "metadata": {},
   "outputs": [],
   "source": [
    "#long-term-interest-rates\n",
    "data, subjects, measures = cif.createDataFrameFromOECD(countries =countries, dsname = 'DP_LIVE',measure=['PC_PA'],subject=['LTINT.TOT'], frequency = 'M')\n",
    "\n",
    "data.to_csv('./data/long-term-interest-rates.csv')"
   ]
  },
  {
   "cell_type": "code",
   "execution_count": null,
   "metadata": {},
   "outputs": [],
   "source": [
    "#short-term-interest-rates\n",
    "data, subjects, measures = cif.createDataFrameFromOECD(countries =countries, dsname = 'DP_LIVE',measure=['PC_PA'],subject=['STINT.TOT'], frequency = 'M')\n",
    "\n",
    "data.to_csv('./data/short-term-interest-rates.csv')"
   ]
  },
  {
   "cell_type": "code",
   "execution_count": null,
   "metadata": {},
   "outputs": [],
   "source": [
    "#ppi\n",
    "data, subjects, measures = cif.createDataFrameFromOECD(countries =countries, dsname = 'DP_LIVE',measure=['IDX2015'],subject=['PPI.DOMESTIC'], frequency = 'M')\n",
    "\n",
    "data.to_csv('./data/ppi.csv')"
   ]
  },
  {
   "cell_type": "code",
   "execution_count": null,
   "metadata": {},
   "outputs": [],
   "source": [
    "#SHPRICE\n",
    "data, subjects, measures = cif.createDataFrameFromOECD(countries =countries, dsname = 'DP_LIVE',measure=['IDX2015'],subject=['SHPRICE.TOT'], frequency = 'M')\n",
    "\n",
    "data.to_csv('./data/SHPRICE.csv')"
   ]
  },
  {
   "cell_type": "code",
   "execution_count": null,
   "metadata": {},
   "outputs": [],
   "source": [
    "#HOUSECOST\n",
    "data, subjects, measures = cif.createDataFrameFromOECD(countries =countries, dsname = 'DP_LIVE',measure=['IDX2015'],subject=['HOUSECOST.NOMINAL+RENT'], frequency = 'M')\n",
    "\n",
    "data.to_csv('./data/HOUSECOST.csv')"
   ]
  },
  {
   "cell_type": "code",
   "execution_count": null,
   "metadata": {},
   "outputs": [],
   "source": []
  }
 ],
 "metadata": {
  "kernelspec": {
   "display_name": "Python 3",
   "language": "python",
   "name": "python3"
  },
  "language_info": {
   "codemirror_mode": {
    "name": "ipython",
    "version": 3
   },
   "file_extension": ".py",
   "mimetype": "text/x-python",
   "name": "python",
   "nbconvert_exporter": "python",
   "pygments_lexer": "ipython3",
   "version": "3.6.6"
  }
 },
 "nbformat": 4,
 "nbformat_minor": 2
}
