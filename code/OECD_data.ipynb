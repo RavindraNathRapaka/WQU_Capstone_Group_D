{
 "cells": [
  {
   "cell_type": "code",
   "execution_count": 2,
   "metadata": {},
   "outputs": [],
   "source": [
    "import cif_modified as cif"
   ]
  },
  {
   "cell_type": "code",
   "execution_count": 34,
   "metadata": {},
   "outputs": [],
   "source": [
    "cpi = {\n",
    "    'name' : 'CPI',\n",
    "    'dsname': 'DP_LIVE',\n",
    "    'subject':'CPI.TOT',\n",
    "    'measure': 'AGRWTH',\n",
    "    'frequency': 'M',\n",
    "    'startDate':None, \n",
    "    'endDate':None,\n",
    "}\n",
    "\n",
    "m1 = {\n",
    "    'name' : 'M1',\n",
    "    'dsname': 'DP_LIVE',\n",
    "    'subject':'M1.TOT',\n",
    "    'measure': 'IDX2015',\n",
    "    'frequency': 'M',\n",
    "    'startDate':None, \n",
    "    'endDate':None,\n",
    "}\n",
    "\n",
    "m3 = {\n",
    "    'name' : 'M3',\n",
    "    'dsname': 'DP_LIVE',\n",
    "    'subject':'M3.TOT',\n",
    "    'measure': 'IDX2015',\n",
    "    'frequency': 'M',\n",
    "    'startDate':None, \n",
    "    'endDate':None,\n",
    "}\n",
    "\n",
    "long_term_interest_rate = {\n",
    "    'name' : 'LTINT',\n",
    "    'dsname': 'DP_LIVE',\n",
    "    'subject':'LTINT.TOT',\n",
    "    'measure': 'PC_PA',\n",
    "    'frequency': 'M',\n",
    "    'startDate':None, \n",
    "    'endDate':None,\n",
    "}\n",
    "\n",
    "short_term_interest_rate = {\n",
    "    'name' : 'STINT',\n",
    "    'dsname': 'DP_LIVE',\n",
    "    'subject':'STINT.TOT',\n",
    "    'measure': 'PC_PA',\n",
    "    'frequency': 'M',\n",
    "    'startDate':None, \n",
    "    'endDate':None,\n",
    "}\n",
    "\n",
    "share_prices = {\n",
    "    'name' : 'SHPRICE',\n",
    "    'dsname': 'DP_LIVE',\n",
    "    'subject':'SHPRICE.TOT',\n",
    "    'measure': 'IDX2015',\n",
    "    'frequency': 'M',\n",
    "    'startDate':None, \n",
    "    'endDate':None,\n",
    "}\n",
    "\n",
    "ppi = {\n",
    "    'name' : 'PPI',\n",
    "    'dsname': 'DP_LIVE',\n",
    "    'subject':'PPI.DOMESTIC',\n",
    "    'measure': 'IDX2015',\n",
    "    'frequency': 'M',\n",
    "    'startDate':None, \n",
    "    'endDate':None,\n",
    "}\n",
    "\n",
    "cci = {\n",
    "    'name' : 'CCI',\n",
    "    'dsname': 'DP_LIVE',\n",
    "    'subject':'CCI.AMPLITUD',\n",
    "    'measure': 'LTRENDIDX',\n",
    "    'frequency': 'M',\n",
    "    'startDate':None, \n",
    "    'endDate':None,\n",
    "}\n",
    "\n",
    "\n",
    "bci = {\n",
    "    'name' : 'BCI',\n",
    "    'dsname': 'DP_LIVE',\n",
    "    'subject':'BCI.AMPLITUD',\n",
    "    'measure': 'LTRENDIDX',\n",
    "    'frequency': 'M',\n",
    "    'startDate':None, \n",
    "    'endDate':None,\n",
    "}"
   ]
  },
  {
   "cell_type": "code",
   "execution_count": 35,
   "metadata": {},
   "outputs": [
    {
     "name": "stdout",
     "output_type": "stream",
     "text": [
      "Error: No available records, please change parameters\n"
     ]
    },
    {
     "name": "stderr",
     "output_type": "stream",
     "text": [
      "/Users/ravindra/WQU_Capstone_Project_Group_D/cif_modified.py:250: FutureWarning: Sorting because non-concatenation axis is not aligned. A future version\n",
      "of pandas will change to not sort by default.\n",
      "\n",
      "To accept the future behavior, pass 'sort=True'.\n",
      "\n",
      "To retain the current behavior and silence the warning, pass sort=False\n",
      "\n",
      "  dataAll = pd.concat([dataAll, dataPart], axis = 1)\n"
     ]
    },
    {
     "name": "stdout",
     "output_type": "stream",
     "text": [
      "Error: No available records, please change parameters\n"
     ]
    }
   ],
   "source": [
    "oecd_data(bci,countries)"
   ]
  },
  {
   "cell_type": "code",
   "execution_count": 30,
   "metadata": {},
   "outputs": [],
   "source": [
    "countries = ['ARG','AUS','BRA','CAN','CHE','CHL','CHN','DEU','FRA','GBR','JPN','KOR','NOR','NZL','RUS','SAU','USA','IND','ZAF']"
   ]
  },
  {
   "cell_type": "code",
   "execution_count": 32,
   "metadata": {},
   "outputs": [],
   "source": [
    "def oecd_data(indicator,countries):\n",
    "    data, subjects, measures = cif.createDataFrameFromOECD(countries =countries,\\\n",
    "                                dsname = indicator.get('dsname'),measure=[indicator.get('measure')],\\\n",
    "                                subject=[indicator.get('subject')], frequency = indicator.get('frequency'),\\\n",
    "                                startDate= indicator.get('startDate'),endDate = indicator.get('endDate')\n",
    "                                                          )\n",
    "    data.to_csv('./data/'+indicator.get('name')+'.csv')\n",
    "    "
   ]
  },
  {
   "cell_type": "code",
   "execution_count": 18,
   "metadata": {},
   "outputs": [],
   "source": [
    "indicators_ = [cpi, m1, m3, long_term_interest_rate, short_term_interest_rate, share_prices,ppi]\n",
    "for indicator in indicators_:\n",
    "    oecd_data(indicator,countries)"
   ]
  }
 ],
 "metadata": {
  "kernelspec": {
   "display_name": "Python 3",
   "language": "python",
   "name": "python3"
  },
  "language_info": {
   "codemirror_mode": {
    "name": "ipython",
    "version": 3
   },
   "file_extension": ".py",
   "mimetype": "text/x-python",
   "name": "python",
   "nbconvert_exporter": "python",
   "pygments_lexer": "ipython3",
   "version": "3.6.7"
  }
 },
 "nbformat": 4,
 "nbformat_minor": 2
}
